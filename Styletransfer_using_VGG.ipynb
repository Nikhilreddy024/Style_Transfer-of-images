{
 "cells": [
  {
   "cell_type": "code",
   "execution_count": null,
   "id": "c65150fc",
   "metadata": {},
   "outputs": [],
   "source": [
    "import numpy as np\n",
    "from PIL import Image\n",
    "import matplotlib.pyplot as plt\n",
    "import torch\n",
    "import torch.optim as optim\n",
    "from torchvision import models\n",
    "from torchvision import transforms as tf\n",
    "import torch.nn. functional as F\n"
   ]
  },
  {
   "cell_type": "code",
   "execution_count": null,
   "id": "38e2cad3",
   "metadata": {},
   "outputs": [],
   "source": [
    "vgg = models.vgg19 (pretrained=True). features\n",
    "for param in vgg. parameters():\n",
    "    param. requires_grad_(False)"
   ]
  },
  {
   "cell_type": "code",
   "execution_count": null,
   "id": "413fccc9",
   "metadata": {},
   "outputs": [],
   "source": [
    "device = torch.device(\"cpu\")\n",
    "if torch.cuda. is_available():\n",
    "    device torch.device(\"cuda\")\n",
    "vgg.to (device)"
   ]
  },
  {
   "cell_type": "code",
   "execution_count": null,
   "id": "dc46b032",
   "metadata": {},
   "outputs": [],
   "source": [
    "mean = (0.485, 0.456, 0.406)\n",
    "std (0.229, 0.224, 0.225)"
   ]
  },
  {
   "cell_type": "code",
   "execution_count": null,
   "id": "835784ad",
   "metadata": {},
   "outputs": [],
   "source": [
    "def transformation (img):\n",
    "    tasks = tf.Compose( [tf.Resize (256),\n",
    "    tf.To Tensor(),\n",
    "    tf.Normalize (mean, std)])\n",
    "    img tasks (img)\n",
    "    img img.unsqueeze (0)\n",
    "    return img"
   ]
  },
  {
   "cell_type": "code",
   "execution_count": null,
   "id": "7de59543",
   "metadata": {},
   "outputs": [],
   "source": [
    "content img = Image.open(\"cat.ing\").convert('RGB')\n",
    "style_img= Image.open(\"starry_night.jpg\").convert('RGB')"
   ]
  },
  {
   "cell_type": "code",
   "execution_count": null,
   "id": "6f665a5a",
   "metadata": {},
   "outputs": [],
   "source": [
    "content_img"
   ]
  },
  {
   "cell_type": "code",
   "execution_count": null,
   "id": "8b088452",
   "metadata": {},
   "outputs": [],
   "source": [
    "content_img.size"
   ]
  },
  {
   "cell_type": "code",
   "execution_count": null,
   "id": "91b2afc6",
   "metadata": {},
   "outputs": [],
   "source": [
    "list(content_img.getdata())"
   ]
  },
  {
   "cell_type": "code",
   "execution_count": null,
   "id": "66e584ed",
   "metadata": {},
   "outputs": [],
   "source": [
    "style_img"
   ]
  },
  {
   "cell_type": "code",
   "execution_count": null,
   "id": "ddc1b586",
   "metadata": {},
   "outputs": [],
   "source": [
    "style_img.size"
   ]
  },
  {
   "cell_type": "code",
   "execution_count": null,
   "id": "cfaf35ed",
   "metadata": {},
   "outputs": [],
   "source": [
    "list(style_img.getdata())"
   ]
  },
  {
   "cell_type": "code",
   "execution_count": null,
   "id": "acc2fc8a",
   "metadata": {},
   "outputs": [],
   "source": [
    "content_img= transformation (content_img).to (device)\n",
    "style_img= transformation (style_img).to (device)"
   ]
  },
  {
   "cell_type": "code",
   "execution_count": null,
   "id": "013a71d1",
   "metadata": {},
   "outputs": [],
   "source": [
    "content_img.shape\n",
    "style_img.shape"
   ]
  },
  {
   "cell_type": "code",
   "execution_count": null,
   "id": "e9a40c2c",
   "metadata": {},
   "outputs": [],
   "source": [
    "def tensor_to_image (tensor):\n",
    "    image= tensor.clone ().detach()\n",
    "    image image.cpu ().numpy ().squeeze()\n",
    "    image = image.transpose (1, 2, 0)\n",
    "    image = np.array(std) + np.array(mean)\n",
    "    image image.clip(0, 1)\n",
    "    return image"
   ]
  },
  {
   "cell_type": "code",
   "execution_count": null,
   "id": "bd147aaa",
   "metadata": {},
   "outputs": [],
   "source": [
    "img= tensor_to_image(style_img)\n",
    "fig = plt.figure()\n",
    "fig.suptitle('Style Image')\n",
    "plt.imshow(img)\n",
    "img = tensor_to_image(content_img)\n",
    "fig= plt.figure()\n",
    "fig.suptitle('Content Image')\n",
    "plt.imshow(img)"
   ]
  },
  {
   "cell_type": "code",
   "execution_count": null,
   "id": "f23bccbf",
   "metadata": {},
   "outputs": [],
   "source": [
    "LAYERS_OF_INTEREST = {'0': 'conv1_1',\n",
    "'5': 'conv2_1',\n",
    "'10': 'conv3_1',\n",
    "'19': 'conv4_1',\n",
    "'21': 'conv4_2',\n",
    "'28': 'conv5_1'}"
   ]
  },
  {
   "cell_type": "code",
   "execution_count": null,
   "id": "1e27c5a2",
   "metadata": {},
   "outputs": [],
   "source": [
    "def apply_model_and_extract_features (image, model):\n",
    "    x = image\n",
    "    features = {}\n",
    "    for name, layer in model._modules.items():\n",
    "        x = layer (x)\n",
    "        if name in LAYERS_OF_INTEREST:\n",
    "            features [LAYERS_OF_INTEREST [name]] = x\n",
    "    return features"
   ]
  },
  {
   "cell_type": "code",
   "execution_count": null,
   "id": "178d76a6",
   "metadata": {},
   "outputs": [],
   "source": [
    "content_img_features = apply_model_and_extract_features (content_img, vgg)\n",
    "style_img_features = apply_model_and_extract_features (style_img, vgg)"
   ]
  },
  {
   "cell_type": "code",
   "execution_count": null,
   "id": "ca30f060",
   "metadata": {},
   "outputs": [],
   "source": [
    "def calculate_gram_matrix(tensor):\n",
    "    _,channels, height, width = tensor.size()\n",
    "\n",
    "    tensor = tensor.view (channels, height * width)\n",
    "    gram_matrix = torch.mm (tensor, tensor.t())\n",
    "    gram_matrix = gram_matrix.div (channels * height* width)\n",
    "    return gram_matrix"
   ]
  },
  {
   "cell_type": "code",
   "execution_count": null,
   "id": "d553e857",
   "metadata": {},
   "outputs": [],
   "source": [
    "style_features_gram_matrix = layer: calculate_gram_matrix (style_img_features [layer]) for layer in\n",
    "style_img_reaturess\n"
   ]
  },
  {
   "cell_type": "code",
   "execution_count": null,
   "id": "71434436",
   "metadata": {},
   "outputs": [],
   "source": [
    "style_features_gram_matrix"
   ]
  },
  {
   "cell_type": "code",
   "execution_count": null,
   "id": "0f56a79b",
   "metadata": {},
   "outputs": [],
   "source": [
    "weights = {'conv1_1': 1.0, 'conv2_1': 0.75, 'conv3_1': 0.35,\n",
    "'conv4_1': 0.25, 'conv5_1': 0.15)"
   ]
  },
  {
   "cell_type": "code",
   "execution_count": null,
   "id": "9155b6e0",
   "metadata": {},
   "outputs": [],
   "source": [
    "target= content_img.clone ( ). requires_grad_(True) .to (device)\n",
    "optimizer optim. Adam ( [target], 1r=0.003)"
   ]
  },
  {
   "cell_type": "code",
   "execution_count": null,
   "id": "e49da752",
   "metadata": {},
   "outputs": [],
   "source": [
    "plt. figure()\n",
    "plt.imshow (tensor_to_image (target))"
   ]
  },
  {
   "cell_type": "code",
   "execution_count": null,
   "id": "3c72b7ac",
   "metadata": {},
   "outputs": [],
   "source": [
    "for i in range (1, 2000):\n",
    "    target_features = apply_model_and_extract_features (\n",
    "    content_loss = F.mse_loss (target_features ['conv4_2'], content_img_features ['conv4_2'])\n",
    "    style_loss = 0\n",
    "    for layer in weights:\n",
    "        target_feature= target_features [layer]\n",
    "        target gram_matrix = calculate_gram_matrix (target_feature\n",
    "        style_gram_matrix = style_features_gram_matrix [\n",
    "        layer_loss = F. mse_loss (target_gram_matrix, style_gram_matrix\n",
    "        layer_loss weights [layer]\n",
    "        channels, height, width = target_feature.shape\n",
    "        style_loss + layer_loss\n",
    "    total loss = 1000000 style_loss + content_loss\n",
    "    if i % 50 == 0:\n",
    "        print ('Epoch {}:, Style Loss {:4f}, Content Loss : {:4f}'.format( i, style_loss, content_loss))   \n",
    "    optimizer.zero_grad()\n",
    "    total loss.backward()\n",
    "    optimizer.step()                              "
   ]
  },
  {
   "cell_type": "code",
   "execution_count": null,
   "id": "da12c471",
   "metadata": {},
   "outputs": [],
   "source": [
    "fig, (ax1, ax2) = plt. subplots (1, 2, figsize=(20, 10)\n",
    "ax1.imshow (tensor_to_image (content_img))\n",
    "ax2.imshow (tensor_to_image (target))"
   ]
  }
 ],
 "metadata": {
  "kernelspec": {
   "display_name": "Python 3 (ipykernel)",
   "language": "python",
   "name": "python3"
  },
  "language_info": {
   "codemirror_mode": {
    "name": "ipython",
    "version": 3
   },
   "file_extension": ".py",
   "mimetype": "text/x-python",
   "name": "python",
   "nbconvert_exporter": "python",
   "pygments_lexer": "ipython3",
   "version": "3.9.7"
  }
 },
 "nbformat": 4,
 "nbformat_minor": 5
}
