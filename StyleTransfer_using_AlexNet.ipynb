{
 "cells": [
  {
   "cell_type": "code",
   "execution_count": null,
   "id": "ff6ffbe8",
   "metadata": {},
   "outputs": [],
   "source": [
    "import numpy as np\n",
    "from PIL import Image\n",
    "import matplotlib.pyplot as plt\n",
    "import torch\n",
    "import torch.optim as optim\n",
    "from torchvision import models\n",
    "from torchvision import transforms as tf\n",
    "import torch.nn. functional as F\n"
   ]
  },
  {
   "cell_type": "code",
   "execution_count": null,
   "id": "3708b05d",
   "metadata": {},
   "outputs": [],
   "source": [
    "alexnet = models.alexnet (pretrained-True) . features\n",
    "for param in alexnet.parameters():\n",
    "    param. requires_grad_(False)"
   ]
  },
  {
   "cell_type": "code",
   "execution_count": null,
   "id": "2cbc7968",
   "metadata": {},
   "outputs": [],
   "source": [
    "device = torch.device (\"cpu\")\n",
    "if torch. cuda.is_available():\n",
    "    device torch.device(\"cuda\")\n",
    "alexnet.to (device)"
   ]
  },
  {
   "cell_type": "code",
   "execution_count": null,
   "id": "fc0a256d",
   "metadata": {},
   "outputs": [],
   "source": [
    "mean= (0.485, 0.456, 0.406)\n",
    "std (0.229, 0.224, 0.225)"
   ]
  },
  {
   "cell_type": "code",
   "execution_count": null,
   "id": "578c959d",
   "metadata": {},
   "outputs": [],
   "source": [
    "def transformation (img):\n",
    "    tasks = tf.Compose( [tf.Resize (256),\n",
    "                         tf.To Tensor(),\n",
    "                         tf.Normalize (mean, std)])\n",
    "    img tasks (img)\n",
    "    img img.unsqueeze (0)\n",
    "    return img"
   ]
  },
  {
   "cell_type": "code",
   "execution_count": null,
   "id": "a8157168",
   "metadata": {},
   "outputs": [],
   "source": [
    "content img = Image.open(\"cat.jpg\").convert('RGB')\n",
    "style_img= Image.open(\"starry_night.jpg\").convert('RGB')"
   ]
  },
  {
   "cell_type": "code",
   "execution_count": null,
   "id": "474a4a67",
   "metadata": {},
   "outputs": [],
   "source": [
    "content_img"
   ]
  },
  {
   "cell_type": "code",
   "execution_count": null,
   "id": "e5400112",
   "metadata": {},
   "outputs": [],
   "source": [
    "content_img.size"
   ]
  },
  {
   "cell_type": "code",
   "execution_count": null,
   "id": "43750336",
   "metadata": {},
   "outputs": [],
   "source": [
    "list(content_img.getdata())"
   ]
  },
  {
   "cell_type": "code",
   "execution_count": null,
   "id": "8a3725c2",
   "metadata": {},
   "outputs": [],
   "source": [
    "style_img"
   ]
  },
  {
   "cell_type": "code",
   "execution_count": null,
   "id": "03bcccf4",
   "metadata": {},
   "outputs": [],
   "source": [
    "style_img.size"
   ]
  },
  {
   "cell_type": "code",
   "execution_count": null,
   "id": "fd054b9f",
   "metadata": {},
   "outputs": [],
   "source": [
    "list(style_img.getdata())"
   ]
  },
  {
   "cell_type": "code",
   "execution_count": null,
   "id": "ddd5c28a",
   "metadata": {},
   "outputs": [],
   "source": [
    "content_img= transformation (content_img).to (device)\n",
    "style_img= transformation (style_img).to (device)"
   ]
  },
  {
   "cell_type": "code",
   "execution_count": null,
   "id": "68d01ec5",
   "metadata": {},
   "outputs": [],
   "source": [
    "content_img.shape\n",
    "style_img.shape"
   ]
  },
  {
   "cell_type": "code",
   "execution_count": null,
   "id": "8356c0fb",
   "metadata": {},
   "outputs": [],
   "source": [
    "def tensor_to_image (tensor):\n",
    "    image= tensor.clone ().detach()\n",
    "    image image.cpu ().numpy ().squeeze()\n",
    "    image = image.transpose (1, 2, 0)\n",
    "    image = np.array(std) + np.array(mean)\n",
    "    image image.clip(0, 1)\n",
    "    return image"
   ]
  },
  {
   "cell_type": "code",
   "execution_count": null,
   "id": "ce2da1d2",
   "metadata": {},
   "outputs": [],
   "source": [
    "img= tensor_to_image(style_img)\n",
    "fig = plt.figure()\n",
    "fig.suptitle('Style Image')\n",
    "plt.imshow(img)\n",
    "img = tensor_to_image(content_img)\n",
    "fig= plt.figure()\n",
    "fig.suptitle('Content Image')\n",
    "plt.imshow(img)"
   ]
  },
  {
   "cell_type": "code",
   "execution_count": null,
   "id": "58826bc2",
   "metadata": {},
   "outputs": [],
   "source": [
    "LAYERS_OF_INTEREST = {'0': 'conv1_1',\n",
    "'3': 'conv2_1',\n",
    "'6': 'conv3_1',\n",
    "'8': 'conv3_2',\n",
    "'10': 'conv3_3'}"
   ]
  },
  {
   "cell_type": "code",
   "execution_count": null,
   "id": "0db33735",
   "metadata": {},
   "outputs": [],
   "source": [
    "def apply_model_and_extract_features (image, model):\n",
    "    x = image\n",
    "    features = {}\n",
    "    for name, layer in model._modules.items():\n",
    "        x = layer (x)\n",
    "        if name in LAYERS_OF_INTEREST:\n",
    "            features [LAYERS_OF_INTEREST [name]] = x\n",
    "    return features"
   ]
  },
  {
   "cell_type": "code",
   "execution_count": null,
   "id": "1046aac7",
   "metadata": {},
   "outputs": [],
   "source": [
    "content_img_features = apply_model_and_extract_features (content_img, vgg)\n",
    "style_img_features = apply_model_and_extract_features (style_img, vgg)"
   ]
  },
  {
   "cell_type": "code",
   "execution_count": null,
   "id": "59c76dde",
   "metadata": {},
   "outputs": [],
   "source": [
    "def calculate_gram_matrix(tensor):\n",
    "    _,channels, height, width = tensor.size()\n",
    "\n",
    "    tensor = tensor.view (channels, height * width)\n",
    "    gram_matrix = torch.mm (tensor, tensor.t())\n",
    "    gram_matrix = gram_matrix.div (channels * height* width)\n",
    "    return gram_matrix"
   ]
  },
  {
   "cell_type": "code",
   "execution_count": null,
   "id": "08bf0143",
   "metadata": {},
   "outputs": [],
   "source": [
    "style_features_gram_matrix = layer: calculate_gram_matrix (style_img_features [layer]) for layer in\n",
    "style_img_reaturess\n"
   ]
  },
  {
   "cell_type": "code",
   "execution_count": null,
   "id": "77c89dad",
   "metadata": {},
   "outputs": [],
   "source": [
    "style_features_gram_matrix"
   ]
  },
  {
   "cell_type": "code",
   "execution_count": null,
   "id": "4cf56f97",
   "metadata": {},
   "outputs": [],
   "source": [
    "weights = {'conv1_1': 1.0, 'conv2_1': 0.8, 'conv3_1': 0.25}"
   ]
  },
  {
   "cell_type": "code",
   "execution_count": null,
   "id": "7a9e58e1",
   "metadata": {},
   "outputs": [],
   "source": [
    "target= content_img.clone (). requires_grad_(True).to (device)\n",
    "optimizer optim. RMSprop( [target], lr=0.003)"
   ]
  },
  {
   "cell_type": "code",
   "execution_count": null,
   "id": "3802b43a",
   "metadata": {},
   "outputs": [],
   "source": [
    "for i in range (1, 2000):\n",
    "    target_features = apply_model_and_extract_features (\n",
    "    content_loss F.mse_loss (target_features ['conv3_1'], content_img_features ['conv3_1'])    \n",
    "    style_loss = 0\n",
    "    for layer in weights:\n",
    "        target_feature= target_features [layer]\n",
    "        target gram_matrix = calculate_gram_matrix (target_feature\n",
    "        style_gram_matrix = style_features_gram_matrix [\n",
    "        layer_loss = F. mse_loss (target_gram_matrix, style_gram_matrix\n",
    "        layer_loss weights [layer]\n",
    "        channels, height, width = target_feature.shape\n",
    "        style_loss + layer_loss\n",
    "    total loss = 1000000 style_loss + content_loss\n",
    "    if i % 50 == 0:\n",
    "        print ('Epoch {}:, Style Loss {:4f}, Content Loss : {:4f}'.format( i, style_loss, content_loss))   \n",
    "    optimizer.zero_grad()\n",
    "    total loss.backward()\n",
    "    optimizer.step()                              "
   ]
  },
  {
   "cell_type": "code",
   "execution_count": null,
   "id": "ab494e0b",
   "metadata": {},
   "outputs": [],
   "source": [
    "fig, (ax1, ax2) = plt. subplots (1, 2, figsize=(20, 10)\n",
    "ax1.imshow (tensor_to_image (content_img))\n",
    "ax2.imshow (tensor_to_image (target))"
   ]
  }
 ],
 "metadata": {
  "kernelspec": {
   "display_name": "Python 3 (ipykernel)",
   "language": "python",
   "name": "python3"
  },
  "language_info": {
   "codemirror_mode": {
    "name": "ipython",
    "version": 3
   },
   "file_extension": ".py",
   "mimetype": "text/x-python",
   "name": "python",
   "nbconvert_exporter": "python",
   "pygments_lexer": "ipython3",
   "version": "3.9.7"
  }
 },
 "nbformat": 4,
 "nbformat_minor": 5
}
